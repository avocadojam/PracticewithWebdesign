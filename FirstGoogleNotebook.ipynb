{
  "nbformat": 4,
  "nbformat_minor": 0,
  "metadata": {
    "colab": {
      "name": "FirstGoogleNotebook.ipynb",
      "provenance": [],
      "collapsed_sections": [],
      "authorship_tag": "ABX9TyM6J9+GewwdAtYQJJNOu+TY",
      "include_colab_link": true
    },
    "kernelspec": {
      "name": "python3",
      "display_name": "Python 3"
    }
  },
  "cells": [
    {
      "cell_type": "markdown",
      "metadata": {
        "id": "view-in-github",
        "colab_type": "text"
      },
      "source": [
        "<a href=\"https://colab.research.google.com/github/avocadojam/PracticewithWebdesign/blob/master/FirstGoogleNotebook.ipynb\" target=\"_parent\"><img src=\"https://colab.research.google.com/assets/colab-badge.svg\" alt=\"Open In Colab\"/></a>"
      ]
    },
    {
      "cell_type": "markdown",
      "metadata": {
        "id": "Qf8FtHaW331V",
        "colab_type": "text"
      },
      "source": [
        "## Do you like using Jupyter Notebooks?"
      ]
    },
    {
      "cell_type": "markdown",
      "metadata": {
        "id": "_HfYO0Tb7_m2",
        "colab_type": "text"
      },
      "source": [
        "Not yet. With every software and new technology, there will be a learning curve and I feel like Juypter Notebook will present one of the bigger curves as I have little to no knowledge of coding or webpage designing."
      ]
    },
    {
      "cell_type": "markdown",
      "metadata": {
        "id": "AJJBk7HC8Efk",
        "colab_type": "text"
      },
      "source": [
        "## What do you want to learn more about in Jupyter Notebooks?"
      ]
    },
    {
      "cell_type": "markdown",
      "metadata": {
        "id": "WLaYy4Jq_ptj",
        "colab_type": "text"
      },
      "source": [
        "I would like to learn the basics of Jupyter Notebooks, such as the short keys and coding instructions. Also how to design a cohesive webpage would be my end goal for this course."
      ]
    },
    {
      "cell_type": "markdown",
      "metadata": {
        "id": "zI-8r_bc87Qi",
        "colab_type": "text"
      },
      "source": [
        "![Sunset Beach](https://raw.githubusercontent.com/avocadojam/PracticewithWebdesign/master/images/sean-o-KMn4VEeEPR8-unsplash.jpg)"
      ]
    }
  ]
}