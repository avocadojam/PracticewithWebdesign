{
  "nbformat": 4,
  "nbformat_minor": 0,
  "metadata": {
    "colab": {
      "name": "FirstGoogleNotebook.ipynb",
      "provenance": [],
      "collapsed_sections": [],
      "authorship_tag": "ABX9TyMO4R5jW/0ImuFDqUboCPp7",
      "include_colab_link": true
    },
    "kernelspec": {
      "name": "python3",
      "display_name": "Python 3"
    }
  },
  "cells": [
    {
      "cell_type": "markdown",
      "metadata": {
        "id": "view-in-github",
        "colab_type": "text"
      },
      "source": [
        "<a href=\"https://colab.research.google.com/github/avocadojam/PracticewithWebdesign/blob/master/FirstGoogleNotebook.ipynb\" target=\"_parent\"><img src=\"https://colab.research.google.com/assets/colab-badge.svg\" alt=\"Open In Colab\"/></a>"
      ]
    },
    {
      "cell_type": "markdown",
      "metadata": {
        "id": "phrrY-6AASDL",
        "colab_type": "text"
      },
      "source": [
        "#Do you like using Jupyter Notebooks?"
      ]
    },
    {
      "cell_type": "markdown",
      "metadata": {
        "id": "Urwo77ElAWmb",
        "colab_type": "text"
      },
      "source": [
        "Not yet. With every software and new technology, there will be a learning curve and I feel like Juypter Notebook will present one of the bigger curves as I have little to no knowledge of coding or webpage designing."
      ]
    },
    {
      "cell_type": "markdown",
      "metadata": {
        "id": "sPEo8lqjAXRZ",
        "colab_type": "text"
      },
      "source": [
        "#What do you want to learn more about in Jupyter Notebooks?"
      ]
    },
    {
      "cell_type": "markdown",
      "metadata": {
        "id": "MILS06nDAdJ9",
        "colab_type": "text"
      },
      "source": [
        "I would like to learn the basics of Jupyter Notebooks, such as the short keys and coding instructions. Also how to design a cohesive webpage would be my end goal for this course."
      ]
    },
    {
      "cell_type": "markdown",
      "metadata": {
        "id": "9WVm9V-QAdzb",
        "colab_type": "text"
      },
      "source": [
        "![Sunset Beach](https://raw.githubusercontent.com/avocadojam/PracticewithWebdesign/master/images/sean-o-KMn4VEeEPR8-unsplash.jpg)"
      ]
    }
  ]
}